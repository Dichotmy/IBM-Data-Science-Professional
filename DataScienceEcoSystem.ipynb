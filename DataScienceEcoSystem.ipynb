{
 "cells": [
  {
   "cell_type": "markdown",
   "id": "15d64ae2-44e5-4bda-9733-184b89f5361d",
   "metadata": {},
   "source": [
    "# Data Science Tools and Ecosystem"
   ]
  },
  {
   "cell_type": "markdown",
   "id": "9ca70055-6694-4127-ae75-6fab41bc0942",
   "metadata": {},
   "source": [
    "In this notebook, Data Science Tools and Ecosystem are summarized."
   ]
  },
  {
   "cell_type": "markdown",
   "id": "ca0befe8-a4f6-4ae3-b306-ac9d1c374bc5",
   "metadata": {},
   "source": [
    "**Objectives:**\n",
    "- List of popular languages for Data Science\n",
    "- List of popular libraries for Data Science\n",
    "- List of popular open source tools for Data Science\n",
    "- Examples of evaluating arithmetic expressions\n",
    "- Examples of defining and calling functions\n",
    "- Examples of assigning variables and use of print function"
   ]
  },
  {
   "cell_type": "markdown",
   "id": "9bbe308b-cbf7-45ec-98c9-455a587abc89",
   "metadata": {},
   "source": [
    "Some of the popular languages that Data Scientists use are:\n",
    "1. Python\n",
    "2. R\n",
    "3. C++\n",
    "4. Java\n",
    "5. Java Script\n",
    "6. SQL"
   ]
  },
  {
   "cell_type": "markdown",
   "id": "a534797a-68e4-4bf5-bff7-3858c494ee32",
   "metadata": {},
   "source": [
    "Some of the commonly used libraries used by Data Scientists include:\n",
    "1. Numpy\n",
    "2. Pandas\n",
    "3. ggplot\n",
    "4. matplotlib\n",
    "5. Lattice\n",
    "6. Plotly"
   ]
  },
  {
   "cell_type": "markdown",
   "id": "43a3138e-835c-4fec-9199-289dcca313e6",
   "metadata": {},
   "source": [
    "|**Data Science Tools**|\n",
    "|-|\n",
    "|Jupyter Notebooks|\n",
    "|R Studio|\n",
    "|GitHub|\n",
    "|Apache Spark|\n",
    "|MySQL|\n",
    "|Anaconda|"
   ]
  },
  {
   "cell_type": "markdown",
   "id": "90cf1e08-e11c-4e1a-b3cb-c104351d77c2",
   "metadata": {},
   "source": [
    "### Below are a few examples of evaluating arithmetic expressions in Python"
   ]
  },
  {
   "cell_type": "code",
   "execution_count": 5,
   "id": "3e6a177c-4c3d-4de1-8654-5b3847854994",
   "metadata": {},
   "outputs": [
    {
     "data": {
      "text/plain": [
       "17"
      ]
     },
     "execution_count": 5,
     "metadata": {},
     "output_type": "execute_result"
    }
   ],
   "source": [
    "# This a simple arithmetic expression to mutiply then add integers\n",
    "(3*4)+5"
   ]
  },
  {
   "cell_type": "code",
   "execution_count": 8,
   "id": "80539c2a-71af-4df8-b712-6d2d0bf73677",
   "metadata": {},
   "outputs": [
    {
     "data": {
      "text/plain": [
       "3.3333333333333335"
      ]
     },
     "execution_count": 8,
     "metadata": {},
     "output_type": "execute_result"
    }
   ],
   "source": [
    "# This will convert 200 minutes to hours by diving by 60\n",
    "def min_to_hour_convert(min):\n",
    "    hours = min/60\n",
    "    return hours\n",
    "min_to_hour_convert(200)"
   ]
  },
  {
   "cell_type": "code",
   "execution_count": 9,
   "id": "2c3161e5-d933-4027-b8b7-e3996fd7127c",
   "metadata": {},
   "outputs": [
    {
     "name": "stdout",
     "output_type": "stream",
     "text": [
      "3.3333333333333335\n"
     ]
    }
   ],
   "source": [
    "# Aleternate Operation\n",
    "minutes = 200\n",
    "hours = minutes/60\n",
    "print(hours)"
   ]
  },
  {
   "cell_type": "markdown",
   "id": "d5b4550c-d86f-4b13-8fa8-2fccdad8414b",
   "metadata": {},
   "source": [
    "## Author\n",
    "Dichotmy Jones"
   ]
  },
  {
   "cell_type": "code",
   "execution_count": null,
   "id": "cf6443ad-19d3-4490-b5aa-9cab32e2895a",
   "metadata": {},
   "outputs": [],
   "source": []
  }
 ],
 "metadata": {
  "kernelspec": {
   "display_name": "Python 3 (ipykernel)",
   "language": "python",
   "name": "python3"
  },
  "language_info": {
   "codemirror_mode": {
    "name": "ipython",
    "version": 3
   },
   "file_extension": ".py",
   "mimetype": "text/x-python",
   "name": "python",
   "nbconvert_exporter": "python",
   "pygments_lexer": "ipython3",
   "version": "3.11.5"
  }
 },
 "nbformat": 4,
 "nbformat_minor": 5
}
